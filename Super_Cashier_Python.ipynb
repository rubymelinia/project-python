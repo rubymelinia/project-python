{
  "nbformat": 4,
  "nbformat_minor": 0,
  "metadata": {
    "colab": {
      "provenance": []
    },
    "kernelspec": {
      "name": "python3",
      "display_name": "Python 3"
    },
    "language_info": {
      "name": "python"
    }
  },
  "cells": [
    {
      "cell_type": "code",
      "execution_count": null,
      "metadata": {
        "colab": {
          "base_uri": "https://localhost:8080/"
        },
        "id": "kHm1uyc7dxCd",
        "outputId": "a9fe40a0-8efb-4b19-a8b5-4d9f79155516"
      },
      "outputs": [
        {
          "output_type": "stream",
          "name": "stdout",
          "text": [
            "| No |Nama Item|Jumlah Item|Harga/item|Total Harga|\n",
            "Pilih opsi angka yang diinginkan (1:Add Item, 2:Delete Item, 3:Reset Transaksi, 4:Hitung Total Harga) : 1\n",
            "Masukkan nama item : hbnj\n",
            "Masukkan jumlah item : 10\n",
            "Masukkan harga per item : 1000000\n",
            "| No |Nama Item|Jumlah Item|Harga/item|Total Harga|\n",
            "| 1 | hbnj | 10 | 1000000\n",
            "Pilih opsi angka yang diinginkan (1:Add Item, 2:Delete Item, 3:Reset Transaksi, 4:Hitung Total Harga) : 4\n",
            "Pemesanan Sudah Benar, Berikut Daftar Belanjaan Anda:\n",
            "| No |Nama Item|Jumlah Item|Harga/item|Total Harga|\n",
            "| 1 | hbnj | 10 | 1000000\n",
            "\tTotal belanja Anda sebesar: Rp 10000000\n",
            "\tSelamat! Anda mendapatkan diskon sebesar 5% sehingga total belanja menjadi : 9500000.0\n",
            "\tTanggal Transaksi : Sunday, 2023-04-16 09:55:47.847138\n"
          ]
        }
      ],
      "source": [
        "import datetime as dt\n",
        "tanggal = dt.datetime.today()\n",
        "\n",
        "class Item:\n",
        "    def __init__(self, nama_item, jumlah_item, harga_per_item):\n",
        "        self.nama_item = nama_item\n",
        "        self.jumlah_item = jumlah_item\n",
        "        self.harga_per_item = harga_per_item\n",
        "        \n",
        "class Transaction():\n",
        "    list_item = []\n",
        "    \n",
        "    def add_item(self):\n",
        "        nama_item = input('Masukkan nama item : ')\n",
        "        jumlah_item = input('Masukkan jumlah item : ')\n",
        "        harga_per_item = input('Masukkan harga per item : ')\n",
        "        new_item = Item(nama_item, jumlah_item, harga_per_item)\n",
        "        \n",
        "        self.list_item.append(new_item)\n",
        "        self.show_selection()\n",
        "        \n",
        "    def delete_item(self):\n",
        "        input_item = input('Masukkan item yang ingin dihapus : ')\n",
        "        temp_item = None;\n",
        "        for item in self.list_item:\n",
        "            if item.nama_item == input_item:\n",
        "                temp_item = item\n",
        "                break\n",
        "        if temp_item is not None:\n",
        "            self.list_item.remove(item)\n",
        "        self.show_selection()\n",
        "        \n",
        "    def reset_transactions(self):\n",
        "        self.list_item.clear()\n",
        "        print(\"Semua item berhasil di hapus!\")\n",
        "        self.show_selection()\n",
        "        \n",
        "    def check_order(self):\n",
        "        is_order_correct = False\n",
        "        for item in self.list_item:\n",
        "            if item.nama_item == '' or not item.jumlah_item.isnumeric() or not item.harga_per_item.isnumeric():\n",
        "                is_order_correct = False\n",
        "            else:\n",
        "                is_order_correct = True\n",
        "                \n",
        "        if is_order_correct:\n",
        "            print('Pemesanan Sudah Benar, Berikut Daftar Belanjaan Anda:')\n",
        "            self.show_list()\n",
        "        else:\n",
        "            print('Pemesanan Salah, Silahkan Cek Kembali Daftar Belanjaan Anda')\n",
        "        return is_order_correct\n",
        "    \n",
        "    \n",
        "    def total_belanja(self):\n",
        "        if self.check_order():\n",
        "            total_belanja = 0\n",
        "            \n",
        "            for item in self.list_item:\n",
        "                total_belanja += int(item.jumlah_item) * int(item.harga_per_item)\n",
        "            print(f'\\tTotal belanja Anda sebesar: Rp {total_belanja}')\n",
        "            self.total_belanja_after_diskon(total_belanja)\n",
        "        \n",
        "        else:\n",
        "            self.show_selection()\n",
        "        \n",
        "    def total_belanja_after_diskon(self, total_belanja):\n",
        "        diskon = 0\n",
        "                \n",
        "        if total_belanja > 200_000:\n",
        "            diskon = 0.05\n",
        "            total_belanja_after_diskon = total_belanja * (1 - diskon)\n",
        "            print(f'\\tSelamat! Anda mendapatkan diskon sebesar 5% sehingga total belanja menjadi : {total_belanja_after_diskon}')\n",
        "        elif total_belanja > 300_000:\n",
        "            diskon = 0.08\n",
        "            total_belanja_after_diskon = total_belanja * (1 - diskon)\n",
        "            print(f'\\tSelamat! Anda mendapatkan diskon sebesar 8% sehingga total belanja menjadi : {total_belanja_after_diskon}')\n",
        "        elif total_belanja > 500_000:\n",
        "            diskon = 0.1\n",
        "            total_belanja_after_diskon = total_belanja * (1 - diskon)\n",
        "            print(f'\\tSelamat! Anda mendapatkan diskon sebesar 10% sehingga total belanja menjadi : {total_belanja_after_diskon}')\n",
        "        else:\n",
        "            diskon = 0\n",
        "            total_belanja_after_diskon = total_belanja * (1 - diskon)\n",
        "            print(f'\\tAnda tidak mendapatkan diskon, total belanja Anda menjadi : {total_belanja_after_diskon}')\n",
        "        print(f'\\tTanggal Transaksi : {tanggal:%A}, {tanggal}')\n",
        "        \n",
        "    def show_list(self):\n",
        "        print('| No |Nama Item|Jumlah Item|Harga/item|Total Harga|')\n",
        "        for index in range(len(self.list_item)):\n",
        "            item = self.list_item[index]\n",
        "            print(f'| {index + 1} | {item.nama_item} | {item.jumlah_item} | {item.harga_per_item}')\n",
        "    \n",
        "    def show_selection(self):\n",
        "        self.show_list()\n",
        "        options = {'1': self.add_item, '2':self.delete_item , '3':self.reset_transactions , '4':self.total_belanja}\n",
        "        input_option = input('Pilih opsi angka yang diinginkan (1:Add Item, 2:Delete Item, 3:Reset Transaksi, 4:Hitung Total Harga) : ')\n",
        "        return options[input_option]()\n",
        "    \n",
        "#proses\n",
        "super_cashier = Transaction()\n",
        "super_cashier.show_selection()\n"
      ]
    },
    {
      "cell_type": "code",
      "source": [
        "1"
      ],
      "metadata": {
        "id": "YRre3c1idzxw"
      },
      "execution_count": null,
      "outputs": []
    }
  ]
}